{
 "cells": [
  {
   "cell_type": "code",
   "execution_count": null,
   "id": "83ae0cf8",
   "metadata": {},
   "outputs": [],
   "source": [
    "from stand_da import compute_p_value, generate_data, AD_DA\n",
    "from model import WDGRL, AutoEncoder\n",
    "import torch\n",
    "import numpy as np"
   ]
  },
  {
   "cell_type": "code",
   "execution_count": null,
   "id": "f37bd6c1",
   "metadata": {},
   "outputs": [],
   "source": [
    "ns, nt, d = 50, 25, 10\n",
    "alpha = 0.05\n",
    "\n",
    "mu_s = 0\n",
    "mu_t = 2\n",
    "delta_s = [0, 0.5, 1, 1.5, 2]\n",
    "delta_t = [0] # No true outliers\n",
    "\n",
    "\n",
    "Xs, ys, sigma_s = generate_data(mu_s, delta_s, ns, d)\n",
    "Xt, yt, sigma_t = generate_data(mu_t, delta_t, nt, d)\n"
   ]
  },
  {
   "cell_type": "code",
   "execution_count": 4,
   "id": "cac01b4e",
   "metadata": {},
   "outputs": [],
   "source": [
    "generator_hidden_dims = [50, 10]\n",
    "critic_hidden_dims = [10]\n",
    "wdgrl = WDGRL(input_dim=d, generator_hidden_dims=generator_hidden_dims, critic_hidden_dims=critic_hidden_dims)\n",
    "index = None\n",
    "\n",
    "with open(\"model/wdgrl_models.txt\", \"r\") as f:\n",
    "    lines = f.readlines()\n",
    "    for i, line in enumerate(lines):\n",
    "        words = line[:-1].split(\"/\")\n",
    "        if words[1] == str(generator_hidden_dims) and words[2] == str(critic_hidden_dims):\n",
    "            index = i\n",
    "            break\n",
    "        \n",
    "if index is None:\n",
    "    print(\"Error: WDGRL Model not found wdgrl\")\n",
    "\n",
    "check_point = torch.load(f\"model/wdgrl_{index}.pth\", map_location=wdgrl.device, weights_only=True)\n",
    "wdgrl.generator.load_state_dict(check_point['generator_state_dict'])\n",
    "wdgrl.critic.load_state_dict(check_point['critic_state_dict'])\n",
    "wdgrl.generator = wdgrl.generator.double()\n"
   ]
  },
  {
   "cell_type": "code",
   "execution_count": 5,
   "id": "01ac3fb8",
   "metadata": {},
   "outputs": [],
   "source": [
    "input_dim = generator_hidden_dims[-1]\n",
    "encoder_hidden_dims = [input_dim, 8, 4, 2]\n",
    "decoder_hidden_dims = [2, 4, 8, input_dim]\n",
    "ae = AutoEncoder(input_dim=input_dim, encoder_hidden_dims=encoder_hidden_dims, decoder_hidden_dims=decoder_hidden_dims)\n",
    "index = None\n",
    "\n",
    "with open(\"model/ae_models.txt\", \"r\") as f:\n",
    "    lines = f.readlines()\n",
    "    for i, line in enumerate(lines):\n",
    "        words = line[:-1].split(\"/\")\n",
    "        if words[1] == str(input_dim) and words[2] == str(encoder_hidden_dims) and words[3] == str(decoder_hidden_dims):\n",
    "            index = i\n",
    "            break\n",
    "\n",
    "if index is None:\n",
    "    print(\"Error: AE model not found\")\n",
    "check_point = torch.load(f\"model/ae_{index}.pth\", map_location=ae.device, weights_only=True)\n",
    "ae.load_state_dict(check_point['state_dict'])\n",
    "ae = ae.double()"
   ]
  },
  {
   "cell_type": "code",
   "execution_count": null,
   "id": "8ba84b79",
   "metadata": {},
   "outputs": [
    {
     "name": "stdout",
     "output_type": "stream",
     "text": [
      "Set of anomalies: [ 0 14 17]\n",
      "p-value for anomaly 14: 0.9289881247100045\n"
     ]
    }
   ],
   "source": [
    "O = AD_DA(Xs, Xt, wdgrl, ae, alpha=alpha)\n",
    "\n",
    "j = np.random.choice(O)\n",
    "p_value = compute_p_value(Xs, Xt, sigma_s, sigma_t, wdgrl, ae, j, O, alpha=alpha)\n",
    "\n",
    "print(f\"Set of anomalies: {O}\")\n",
    "print(f\"p-value for anomaly {j}: {p_value}\")"
   ]
  }
 ],
 "metadata": {
  "kernelspec": {
   "display_name": "Python 3",
   "language": "python",
   "name": "python3"
  },
  "language_info": {
   "codemirror_mode": {
    "name": "ipython",
    "version": 3
   },
   "file_extension": ".py",
   "mimetype": "text/x-python",
   "name": "python",
   "nbconvert_exporter": "python",
   "pygments_lexer": "ipython3",
   "version": "3.12.5"
  }
 },
 "nbformat": 4,
 "nbformat_minor": 5
}
