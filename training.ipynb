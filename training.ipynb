{
 "cells": [
  {
   "cell_type": "code",
   "execution_count": 76,
   "id": "4792753f",
   "metadata": {},
   "outputs": [],
   "source": [
    "import matplotlib.pyplot as plt\n",
    "import numpy as np\n",
    "import torch \n",
    "from stand_da_package.gen_data import gen_data\n",
    "from stand_da_package.model import WDGRL, AutoEncoder"
   ]
  },
  {
   "cell_type": "code",
   "execution_count": 77,
   "id": "05786c3d",
   "metadata": {},
   "outputs": [
    {
     "data": {
      "image/png": "[encoded data removed]",
      "text/plain": [
       "<Figure size 640x480 with 1 Axes>"
      ]
     },
     "metadata": {},
     "output_type": "display_data"
    }
   ],
   "source": [
    "\n",
    "\"\"\"Create synthetic dataset and dataloaders for domain adaptation.\"\"\"\n",
    "# Create datasets\n",
    "ns, nt, d = 1000, 100, 10\n",
    "\n",
    "xs, ys, _ = gen_data(0, [0, 0.5, 1, 1.5, 2], ns, d)\n",
    "xt, yt, _ = gen_data(2, [0, 0.5, 1, 1.5, 2], nt, d)\n",
    "\n",
    "plt.scatter(xs[:, 0], np.zeros_like(xs[:, 0]), c=ys, cmap='viridis', s=2)\n",
    "plt.scatter(xt[:, 0], np.zeros_like(xt[:, 0]), c=yt, cmap='cool', s=2)\n",
    "plt.show()"
   ]
  },
  {
   "cell_type": "code",
   "execution_count": 78,
   "id": "1b358a2a",
   "metadata": {},
   "outputs": [],
   "source": [
    "# Convert to PyTorch tensors\n",
    "xs = torch.DoubleTensor(xs)\n",
    "ys = torch.LongTensor(ys)\n",
    "xt = torch.DoubleTensor(xt)\n",
    "yt = torch.LongTensor(yt)\n",
    "\n",
    "from torch.utils.data import DataLoader, TensorDataset \n",
    "source_dataset = TensorDataset(xs, ys)\n",
    "target_dataset = TensorDataset(xt, yt)\n",
    "source_loader = DataLoader(source_dataset, batch_size=16, shuffle=True, drop_last=True)\n",
    "target_loader = DataLoader(target_dataset, batch_size=16, shuffle=True, drop_last=True)"
   ]
  },
  {
   "cell_type": "code",
   "execution_count": 79,
   "id": "220157cd",
   "metadata": {},
   "outputs": [
    {
     "data": {
      "application/vnd.jupyter.widget-view+json": {
       "model_id": "d887b22d8ee647a291040e816dc7aeae",
       "version_major": 2,
       "version_minor": 0
      },
      "text/plain": [
       "Epoch:   0%|          | 0/5 [00:00<?, ?it/s]"
      ]
     },
     "metadata": {},
     "output_type": "display_data"
    },
    {
     "name": "stdout",
     "output_type": "stream",
     "text": [
      "Epoch 1/5 | Loss: 0.0071413558786617036\n",
      "--------------------------------\n",
      "Epoch 2/5 | Loss: 0.005939017764593353\n",
      "--------------------------------\n",
      "Epoch 3/5 | Loss: 0.010018775742724495\n",
      "--------------------------------\n",
      "Epoch 4/5 | Loss: 0.0080973688652348\n",
      "--------------------------------\n",
      "Epoch 5/5 | Loss: 0.0190895309839637\n",
      "--------------------------------\n"
     ]
    }
   ],
   "source": [
    "generator_hidden_dims = [50, 10]\n",
    "critic_hidden_dims = [10]\n",
    "model = WDGRL(input_dim=d, generator_hidden_dims=generator_hidden_dims, critic_hidden_dims=critic_hidden_dims)\n",
    "num_epochs = 5\n",
    "losses, source_critic_scores, target_critic_scores = model.train(source_loader, target_loader, num_epochs=num_epochs, dc_iter=10)"
   ]
  },
  {
   "cell_type": "code",
   "execution_count": 80,
   "id": "6109a8c6",
   "metadata": {},
   "outputs": [
    {
     "name": "stdout",
     "output_type": "stream",
     "text": [
      "Model saved successfully!\n"
     ]
    }
   ],
   "source": [
    "# Define a dictionary with all the necessary components\n",
    "checkpoint = {\n",
    "    'generator_state_dict': model.generator.state_dict(),\n",
    "    'critic_state_dict': model.critic.state_dict(),\n",
    "    'device': model.device,\n",
    "}\n",
    "index = None\n",
    "\n",
    "with open(\"model/wdgrl_models.txt\", \"r\") as f:\n",
    "    lines = f.readlines()\n",
    "    for i, line in enumerate(lines):\n",
    "        words = line[:-1].split(\"/\")\n",
    "        if words[1] == str(generator_hidden_dims) and words[2] == str(critic_hidden_dims):\n",
    "            index = i\n",
    "            break\n",
    "if index is None:\n",
    "    with open(\"model/wdgrl_models.txt\", \"r\") as f:\n",
    "        index = len(f.readlines())\n",
    "    with open(\"model/wdgrl_models.txt\", \"a\") as f:\n",
    "        f.write(f\"{index}/{generator_hidden_dims}/{critic_hidden_dims}\\n\")\n",
    "# Save the checkpoint\n",
    "torch.save(checkpoint, f\"model/wdgrl_{index}.pth\")\n",
    "print(\"Model saved successfully!\")"
   ]
  },
  {
   "cell_type": "code",
   "execution_count": 81,
   "id": "902b8e73",
   "metadata": {},
   "outputs": [],
   "source": [
    "xs_hat = model.extract_feature(xs.to(model.device))\n",
    "xt_hat = model.extract_feature(xt.to(model.device))\n",
    "x_hat = torch.cat((xs_hat, xt_hat), dim=0)"
   ]
  },
  {
   "cell_type": "code",
   "execution_count": 82,
   "id": "1eb3fcbb",
   "metadata": {},
   "outputs": [
    {
     "name": "stdout",
     "output_type": "stream",
     "text": [
      "Epoch 1/10 | Loss: 0.005139683555643041\n",
      "Epoch 2/10 | Loss: 0.0034431122102065214\n",
      "Epoch 3/10 | Loss: 0.0030302633155345985\n",
      "Epoch 4/10 | Loss: 0.0026551948790496044\n",
      "Epoch 5/10 | Loss: 0.002159752990106953\n",
      "Epoch 6/10 | Loss: 0.0027260339218142483\n",
      "Epoch 7/10 | Loss: 0.002021779011456279\n",
      "Epoch 8/10 | Loss: 0.0030791412576041933\n",
      "Epoch 9/10 | Loss: 0.002523824180575884\n",
      "Epoch 10/10 | Loss: 0.002568604402281364\n"
     ]
    }
   ],
   "source": [
    "input_dim = generator_hidden_dims[-1]\n",
    "encoder_hidden_dims = [input_dim, 8, 4, 2]\n",
    "decoder_hidden_dims = [2, 4, 8, input_dim]\n",
    "batch_size = 16\n",
    "num_epochs = 10\n",
    "\n",
    "model = AutoEncoder(input_dim, encoder_hidden_dims, decoder_hidden_dims)\n",
    "dataset = torch.utils.data.TensorDataset(x_hat)\n",
    "data_loader = torch.utils.data.DataLoader(dataset, batch_size=batch_size, shuffle=True, drop_last=True)\n",
    "losses = model.train(data_loader=data_loader, num_epochs = num_epochs)"
   ]
  },
  {
   "cell_type": "code",
   "execution_count": 84,
   "id": "f4e1cbc0",
   "metadata": {},
   "outputs": [
    {
     "name": "stdout",
     "output_type": "stream",
     "text": [
      "Model saved successfully!\n"
     ]
    }
   ],
   "source": [
    "checkpoint = {\n",
    "    'state_dict': model.state_dict(),\n",
    "    'device': model.device,\n",
    "}\n",
    "index = None\n",
    "\n",
    "with open(\"model/ae_models.txt\", \"r\") as f:\n",
    "    lines = f.readlines()\n",
    "    for i, line in enumerate(lines):\n",
    "        words = line[:-1].split(\"/\")\n",
    "        if words[1] == str(input_dim) and words[2] == str(encoder_hidden_dims) and words[3] == str(decoder_hidden_dims):\n",
    "            index = i\n",
    "            break\n",
    "if index is None:\n",
    "    with open(\"model/ae_models.txt\", \"r\") as f:\n",
    "        index = len(f.readlines())\n",
    "    with open(\"model/ae_models.txt\", \"a\") as f:\n",
    "        f.write(f\"{index}/{input_dim}/{encoder_hidden_dims}/{decoder_hidden_dims}\\n\")\n",
    "# Save the checkpoint\n",
    "torch.save(checkpoint, f\"model/ae_{index}.pth\")\n",
    "print(\"Model saved successfully!\")\n"
   ]
  }
 ],
 "metadata": {
  "kernelspec": {
   "display_name": "Python 3",
   "language": "python",
   "name": "python3"
  },
  "language_info": {
   "codemirror_mode": {
    "name": "ipython",
    "version": 3
   },
   "file_extension": ".py",
   "mimetype": "text/x-python",
   "name": "python",
   "nbconvert_exporter": "python",
   "pygments_lexer": "ipython3",
   "version": "3.12.5"
  }
 },
 "nbformat": 4,
 "nbformat_minor": 5
}
